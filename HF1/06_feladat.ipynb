{
 "cells": [
  {
   "cell_type": "markdown",
   "metadata": {},
   "source": [
    "# HF 1 (15 pont)\n",
    "\n",
    "- Minden feladatot a feladatszámnak megfelelő számú megoldásnotebookban oldj meg. Például első feladatot az 01_feladat.ipynb notebookban.\n",
    "- A megoldás tartalmazza a megoldandó feladat szövegét a megoldásnotebook első markdown cellájában!\n",
    "- **Kommentekkel**, illetve **markdown cellákkal** magyarázd, hogy éppen mit csinál az adott kódrészlet!\n",
    "- Magyarázat nélkül a beküldött feladatok csak fél feladatnak számítanak!\n",
    "- Az elkészített ábrák minden esetben rendelkezzenek ábrafeliratokkal (cím, tengelyfeliratok és  −  amennyiben indokolt  −  jelmagyarázat)! Amennyiben a beadott ábrákon nincsenek feliratok, az adott feladat automatikusan csak fél feladatnak számít!\n",
    "- A beadott notebookok Kernel -> Restart&Run All hatására a beadott formát reprodukálják! \n",
    "- A Feladatok megadott pontszámán túl a beadott feladatok külalakjáért összesen 3 pont-ot lehet szerezni!\n",
    "---\n"
   ]
  },
  {
   "cell_type": "markdown",
   "metadata": {},
   "source": [
    "## Feladat 6 (2 pont)\n",
    "\n",
    "A fizikában gyakran kell egy kétváltozós függvényt minimum,maximum vagy\n",
    "nyeregpont közelében leírni. Ilyen pont körül a függvények\n",
    "$ a x^2 + b x y + c y^2 $  alakban közelíthetők.\n",
    "\n",
    "- Hozzunk létre egy poli2 osztályt, aminek elemei ilyen polinomok!\n",
    "- Egy polinom létrehozásakor meg kelljen adni a három együtthatót.\n",
    "- Attribútumként lehessen lekérdezni az együtthatókat.\n",
    "- Legyen egy osztálymetódus, ami a polinomot x irányban széthúzza, azaz\n",
    "$a\\rightarrow a/4, b\\rightarrow b/2$ transzformációt végez!\n",
    "- Legyen egy osztálymetódus, ami kiszámolja az $a+c$ és $ac-b^2/4$ értékeket,ugyanis ha mindkettő pozitív, akkor a polinom minimumot ír le.\n",
    "- Legyen egy osztálymetódus, ami a polinomot kétváltozós függvényként\n",
    "ábrázolja a $ -1 \\le x \\le 1, -1 \\le y \\le 1 $ tartományban!\n",
    "- Két polinom + jellel való összeadásakor adódjanak össze az együtthatók.\n",
    "- A beadott notebokkban példákon keresztül mutasd be hogy az osztálymetódusok a specifikációnak megfelelően működnek! Próbáljuk ki ezeket például a $8x^2+4xy+2y^2$ és $2x^2-8xy+2y^2$ polinomokon!\n"
   ]
  },
  {
   "cell_type": "code",
   "execution_count": 1,
   "metadata": {},
   "outputs": [
    {
     "name": "stdout",
     "output_type": "stream",
     "text": [
      "Populating the interactive namespace from numpy and matplotlib\n"
     ]
    }
   ],
   "source": [
    "%pylab inline"
   ]
  },
  {
   "cell_type": "code",
   "execution_count": 2,
   "metadata": {},
   "outputs": [],
   "source": [
    "from math import *\n",
    "class poli2:\n",
    "    def attributum(self,a,b,c):\n",
    "        self.a = a\n",
    "        self.b = b\n",
    "        self.c = c\n",
    "        polinom = a*x**2 + b*xy + c*y**2\n",
    "    def valtozok(self,a,b,c):\n",
    "        self.a = int(print('Kérem az első együtthatót: '))\n",
    "        self.b = int(print('Kérem az második együtthatót: '))\n",
    "        self.c = int(print('Kérem az harmadik együtthatót: '))\n",
    "    def szethuzas(self,a,b):\n",
    "        self.a = a/4\n",
    "        self.b = b/2\n",
    "    def minimum(self,a,b,c):\n",
    "        mini = self.a + self.c\n",
    "        mum = self.a * self.c - (b**2/4)\n",
    "    def plot(self,x,y):\n",
    "        x = linspace(-1,-1)\n",
    "        y = polinom(x)\n",
    "        y = linspace(-1,1)\n",
    "        plot(x,y)                                #def polinom_sum:(self,a,b,c):"
   ]
  },
  {
   "cell_type": "code",
   "execution_count": 14,
   "metadata": {},
   "outputs": [
    {
     "ename": "SyntaxError",
     "evalue": "unexpected EOF while parsing (<ipython-input-14-be5c15d66e1c>, line 1)",
     "output_type": "error",
     "traceback": [
      "\u001b[0;36m  File \u001b[0;32m\"<ipython-input-14-be5c15d66e1c>\"\u001b[0;36m, line \u001b[0;32m1\u001b[0m\n\u001b[0;31m    print(poli2(self.a)\u001b[0m\n\u001b[0m                       ^\u001b[0m\n\u001b[0;31mSyntaxError\u001b[0m\u001b[0;31m:\u001b[0m unexpected EOF while parsing\n"
     ]
    }
   ],
   "source": []
  }
 ],
 "metadata": {
  "kernelspec": {
   "display_name": "Python 3 (ipykernel)",
   "language": "python",
   "name": "python3"
  },
  "language_info": {
   "codemirror_mode": {
    "name": "ipython",
    "version": 3
   },
   "file_extension": ".py",
   "mimetype": "text/x-python",
   "name": "python",
   "nbconvert_exporter": "python",
   "pygments_lexer": "ipython3",
   "version": "3.8.3"
  }
 },
 "nbformat": 4,
 "nbformat_minor": 4
}
