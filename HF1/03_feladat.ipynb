{
 "cells": [
  {
   "cell_type": "markdown",
   "metadata": {},
   "source": [
    "# HF 1 (15 pont)\n",
    "\n",
    "- Minden feladatot a feladatszámnak megfelelő számú megoldásnotebookban oldj meg. Például első feladatot az 01_feladat.ipynb notebookban.\n",
    "- A megoldás tartalmazza a megoldandó feladat szövegét a megoldásnotebook első markdown cellájában!\n",
    "- **Kommentekkel**, illetve **markdown cellákkal** magyarázd, hogy éppen mit csinál az adott kódrészlet!\n",
    "- Magyarázat nélkül a beküldött feladatok csak fél feladatnak számítanak!\n",
    "- Az elkészített ábrák minden esetben rendelkezzenek ábrafeliratokkal (cím, tengelyfeliratok és  −  amennyiben indokolt  −  jelmagyarázat)! Amennyiben a beadott ábrákon nincsenek feliratok, az adott feladat automatikusan csak fél feladatnak számít!\n",
    "- A beadott notebookok Kernel -> Restart&Run All hatására a beadott formát reprodukálják! \n",
    "- A Feladatok megadott pontszámán túl a beadott feladatok külalakjáért összesen 3 pont-ot lehet szerezni!\n",
    "---\n"
   ]
  },
  {
   "cell_type": "markdown",
   "metadata": {},
   "source": [
    "## Feladat 3 (2 pont)\n",
    "\n",
    "Írj két függvényt ami a 10-es ésa 4-as számrendszer közt konvertál.\n",
    " \n",
    "- A feladat megoldásához ne importálj semmilyen külső modult!\n",
    "- Legyen a 10-esből a 4-asba konvertáló függvény neve from10to4. Egy bemeneti paramétere legyen ami egy egész szám. \n",
    "  A függvény visszatérési értéke egy string legyen amelynek a karakterei a megfelelő 4-as számrendszerbeli reprezentációját adják a számnak.\n",
    "- Legyen a 4-asból a 10-esbe konvertáló függvényed neve from4to10. Egy bemeneti paraméterrel rendelkezzen ami egy string. \n",
    "  A függvény visszatérési értéke legyen egy egész szám.\n",
    "\n",
    "Ellenőrizd le, hogy ha egy tetszőleges számot od-a vissza váltassz akkor vissza kapod-e az eredeti számot!\n",
    "Ellenörzés képp itt van további 4 példa:\n",
    "\n",
    "10-es|4-as\n",
    "-|-\n",
    "`0`|`'0'`\n",
    "`42`|`'222'`\n",
    "`137`|`'2021'`\n",
    "`1982`|`132332`"
   ]
  },
  {
   "cell_type": "code",
   "execution_count": 1,
   "metadata": {},
   "outputs": [],
   "source": [
    "def from10to4(n):\n",
    "    result = \"\"\n",
    "    while n > 0:\n",
    "        digit = n % 4\n",
    "        n = int(n / 4)\n",
    "        result = str(digit) + result\n",
    "    if result == \"\": result = \"0\"\n",
    "    return result\n",
    "\n",
    "def from4to10(s):\n",
    "    result = 0\n",
    "    for i in range(1, len(s)+1):\n",
    "        result = result + int(s[-i]) * (4 ** (i-1))\n",
    "    return result"
   ]
  },
  {
   "cell_type": "code",
   "execution_count": 2,
   "metadata": {},
   "outputs": [
    {
     "name": "stdout",
     "output_type": "stream",
     "text": [
      "0 (10) ->  0  (4)\n",
      "42 (10) ->  222  (4)\n",
      "137 (10) ->  2021  (4)\n",
      "1982 (10) ->  132332  (4)\n",
      "0 (4) ->  0  (10)\n",
      "222 (4) ->  42  (10)\n",
      "2021 (4) ->  137  (10)\n",
      "132332 (4) ->  1982  (10)\n"
     ]
    }
   ],
   "source": [
    "print(\"0 (10) -> \", from10to4(0), \" (4)\")\n",
    "print(\"42 (10) -> \", from10to4(42), \" (4)\")\n",
    "print(\"137 (10) -> \", from10to4(137), \" (4)\")\n",
    "print(\"1982 (10) -> \", from10to4(1982), \" (4)\")\n",
    "print(\"0 (4) -> \", from4to10(\"0\"), \" (10)\")\n",
    "print(\"222 (4) -> \", from4to10(\"222\"), \" (10)\")\n",
    "print(\"2021 (4) -> \", from4to10(\"2021\"), \" (10)\")\n",
    "print(\"132332 (4) -> \", from4to10(\"132332\"), \" (10)\")"
   ]
  },
  {
   "cell_type": "code",
   "execution_count": null,
   "metadata": {},
   "outputs": [],
   "source": []
  }
 ],
 "metadata": {
  "kernelspec": {
   "display_name": "Python 3 (ipykernel)",
   "language": "python",
   "name": "python3"
  },
  "language_info": {
   "codemirror_mode": {
    "name": "ipython",
    "version": 3
   },
   "file_extension": ".py",
   "mimetype": "text/x-python",
   "name": "python",
   "nbconvert_exporter": "python",
   "pygments_lexer": "ipython3",
   "version": "3.8.3"
  }
 },
 "nbformat": 4,
 "nbformat_minor": 4
}
