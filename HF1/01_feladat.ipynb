{
 "cells": [
  {
   "cell_type": "markdown",
   "metadata": {},
   "source": [
    "# HF 1 (15 pont)\n",
    "\n",
    "- Minden feladatot a feladatszámnak megfelelő számú megoldásnotebookban oldj meg. Például első feladatot az 01_feladat.ipynb notebookban.\n",
    "- A megoldás tartalmazza a megoldandó feladat szövegét a megoldásnotebook első markdown cellájában!\n",
    "- **Kommentekkel**, illetve **markdown cellákkal** magyarázd, hogy éppen mit csinál az adott kódrészlet!\n",
    "- Magyarázat nélkül a beküldött feladatok csak fél feladatnak számítanak!\n",
    "- Az elkészített ábrák minden esetben rendelkezzenek ábrafeliratokkal (cím, tengelyfeliratok és  −  amennyiben indokolt  −  jelmagyarázat)! Amennyiben a beadott ábrákon nincsenek feliratok, az adott feladat automatikusan csak fél feladatnak számít!\n",
    "- A beadott notebookok Kernel -> Restart&Run All hatására a beadott formát reprodukálják! \n",
    "- A Feladatok megadott pontszámán túl a beadott feladatok külalakjáért összesen 3 pont-ot lehet szerezni!\n",
    "---\n"
   ]
  },
  {
   "cell_type": "markdown",
   "metadata": {},
   "source": [
    "## Feladat 1 (2 pont)\n",
    "## Luhn-algoritmus\n",
    "\n",
    "- Írj egy függvényt, ami a [Luhn-algoritmus](https://hu.wikipedia.org/wiki/Luhn-formula) segítségével ellenőrzi a hitelkártyaszámok hitelességét.\n",
    "- Demonstráld az alábbi hitelkártyaszámokkal, hogy a függvény jól működik:\n",
    "    - 79927398713 (True)\n",
    "    - 79927398716 (False)\n",
    "    - 79927398719 ?\n",
    "    - 456565654 ?\n",
    "    - 456565651 ?\n"
   ]
  },
  {
   "cell_type": "code",
   "execution_count": 1,
   "metadata": {},
   "outputs": [],
   "source": [
    "from numpy.lib.scimath import sqrt\n",
    "\n",
    "def luhn (creditcard):\n",
    "    sum = 0\n",
    "    nDigits = len(creditcard)\n",
    "    parity = nDigits & 1\n",
    "    for i in range (nDigits):\n",
    "        digit = int(creditcard[i])\n",
    "        if not ((i & 1) ^ parity):  \n",
    "            digit = digit * 2\n",
    "        if digit > 9:\n",
    "            digit = digit - 9\n",
    "        sum = sum + digit\n",
    "    return ((sum % 10) == 0)"
   ]
  },
  {
   "cell_type": "code",
   "execution_count": 2,
   "metadata": {},
   "outputs": [
    {
     "name": "stdout",
     "output_type": "stream",
     "text": [
      "79927398713:  True\n",
      "79927398716:  False\n",
      "79927398719:  False\n",
      "456565654:  True\n",
      "456565651:  False\n"
     ]
    }
   ],
   "source": [
    "print(\"79927398713: \", luhn(\"79927398713\"))\n",
    "print(\"79927398716: \", luhn(\"79927398716\"))\n",
    "print(\"79927398719: \", luhn(\"79927398719\"))\n",
    "print(\"456565654: \", luhn(\"456565654\"))\n",
    "print(\"456565651: \", luhn(\"456565651\"))"
   ]
  },
  {
   "cell_type": "code",
   "execution_count": null,
   "metadata": {},
   "outputs": [],
   "source": []
  }
 ],
 "metadata": {
  "kernelspec": {
   "display_name": "Python 3 (ipykernel)",
   "language": "python",
   "name": "python3"
  },
  "language_info": {
   "codemirror_mode": {
    "name": "ipython",
    "version": 3
   },
   "file_extension": ".py",
   "mimetype": "text/x-python",
   "name": "python",
   "nbconvert_exporter": "python",
   "pygments_lexer": "ipython3",
   "version": "3.8.3"
  }
 },
 "nbformat": 4,
 "nbformat_minor": 4
}
