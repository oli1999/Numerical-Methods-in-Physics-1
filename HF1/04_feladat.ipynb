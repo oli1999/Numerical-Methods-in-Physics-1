{
 "cells": [
  {
   "cell_type": "markdown",
   "metadata": {},
   "source": [
    "# HF 1 (15 pont)\n",
    "\n",
    "- Minden feladatot a feladatszámnak megfelelő számú megoldásnotebookban oldj meg. Például első feladatot az 01_feladat.ipynb notebookban.\n",
    "- A megoldás tartalmazza a megoldandó feladat szövegét a megoldásnotebook első markdown cellájában!\n",
    "- **Kommentekkel**, illetve **markdown cellákkal** magyarázd, hogy éppen mit csinál az adott kódrészlet!\n",
    "- Magyarázat nélkül a beküldött feladatok csak fél feladatnak számítanak!\n",
    "- Az elkészített ábrák minden esetben rendelkezzenek ábrafeliratokkal (cím, tengelyfeliratok és  −  amennyiben indokolt  −  jelmagyarázat)! Amennyiben a beadott ábrákon nincsenek feliratok, az adott feladat automatikusan csak fél feladatnak számít!\n",
    "- A beadott notebookok Kernel -> Restart&Run All hatására a beadott formát reprodukálják! \n",
    "- A Feladatok megadott pontszámán túl a beadott feladatok külalakjáért összesen 3 pont-ot lehet szerezni!\n",
    "---\n"
   ]
  },
  {
   "cell_type": "markdown",
   "metadata": {},
   "source": [
    "## Feladat 4 (2 pont)\n",
    "\n",
    "2048-ban találkozunk idegen lényekkel, akiknek a számítógépében a számok szintén 0,1 értékű bitekkel vannak ábrázolva.\n",
    "Azonban náluk nem lehet egymás mellett két 1-es bit!\n",
    "(pl. 101000010010 egy megengedett bitsorozat).\n",
    "- Írjunk függvényt, ami adott n-re sorra veszi az összes lehetséges 0,1 sorozatot, és megszámlálja hány megengedett van köztük!\n",
    "- Hány lehetséges értéke van egy bájtnak a szokásos 256 helyett?\n",
    "- Futtassuk le ezt a függvényt n=1,2,3,...16 értékekkel, és az eredményeket gyűjtsük egy adatsorba, amit a-val jelölünk. Mit veszünk észre?\n",
    "- Ábrázoljuk az eredmények logaritmusát n függvényében! Mit tapasztalunk?\n",
    "- Rajzoljuk az ábrára a $\\left(\\frac{\\sqrt{5}+1}{2}\\right)^n$ logaritmusát is!"
   ]
  },
  {
   "cell_type": "code",
   "execution_count": 1,
   "metadata": {},
   "outputs": [],
   "source": [
    "def from10to2(number):\n",
    "    divide = number\n",
    "    convert_list = []\n",
    "    i = 2\n",
    "    if divide == 0:\n",
    "        convert_list = number\n",
    "    else:\n",
    "        while True:\n",
    "            i = divide%2\n",
    "            convert_list.append(i)\n",
    "            divide = int(divide/2)\n",
    "            if i == 0 and divide == 0:\n",
    "                break\n",
    "        convert_list = convert_list[0:-1]\n",
    "        convert_list = convert_list[::-1]\n",
    "        convert_list = [str(i) for i in convert_list]\n",
    "        convert_list = int(''.join(convert_list))\n",
    "    return convert_list"
   ]
  },
  {
   "cell_type": "code",
   "execution_count": 2,
   "metadata": {},
   "outputs": [
    {
     "data": {
      "text/plain": [
       "(0, 10111)"
      ]
     },
     "execution_count": 2,
     "metadata": {},
     "output_type": "execute_result"
    }
   ],
   "source": [
    "from10to2(0),from10to2(23)"
   ]
  },
  {
   "cell_type": "code",
   "execution_count": 3,
   "metadata": {},
   "outputs": [],
   "source": [
    "def alienbinary(earth_binar):\n",
    "    e_bin = [int(x) for x in str(earth_binar)]\n",
    "    count = 0\n",
    "    for i in range(1,len(e_bin)):\n",
    "        if e_bin[i-1] != 1 or e_bin[i] != 1:\n",
    "            count += 1\n",
    "    if count+1 == len(e_bin): \n",
    "        return earth_binar\n",
    "    else:\n",
    "        return \"Not alien\""
   ]
  },
  {
   "cell_type": "code",
   "execution_count": 4,
   "metadata": {},
   "outputs": [
    {
     "data": {
      "text/plain": [
       "(100, 1000, 1001, 1010, 10000, 10001, 10010)"
      ]
     },
     "execution_count": 4,
     "metadata": {},
     "output_type": "execute_result"
    }
   ],
   "source": [
    "alienbinary(from10to2(4)),alienbinary(from10to2(8)),alienbinary(from10to2(9)),alienbinary(from10to2(10)),alienbinary(from10to2(16)),alienbinary(from10to2(17)),alienbinary(from10to2(18))"
   ]
  },
  {
   "cell_type": "code",
   "execution_count": 5,
   "metadata": {},
   "outputs": [
    {
     "data": {
      "text/plain": [
       "10100"
      ]
     },
     "execution_count": 5,
     "metadata": {},
     "output_type": "execute_result"
    }
   ],
   "source": [
    "alienbinary(from10to2(20))"
   ]
  },
  {
   "cell_type": "code",
   "execution_count": 6,
   "metadata": {},
   "outputs": [
    {
     "data": {
      "text/plain": [
       "'Not alien'"
      ]
     },
     "execution_count": 6,
     "metadata": {},
     "output_type": "execute_result"
    }
   ],
   "source": [
    "alienbinary(from10to2(11))"
   ]
  },
  {
   "cell_type": "code",
   "execution_count": 7,
   "metadata": {},
   "outputs": [],
   "source": [
    "def counter_of_green_light(n):\n",
    "    count = 0\n",
    "    for i in range(n):\n",
    "        binary = from10to2(i)\n",
    "        possible = alienbinary(binary)\n",
    "        if type(possible) == int:\n",
    "            count += 1\n",
    "    return count"
   ]
  },
  {
   "cell_type": "code",
   "execution_count": 8,
   "metadata": {},
   "outputs": [
    {
     "data": {
      "text/plain": [
       "55"
      ]
     },
     "execution_count": 8,
     "metadata": {},
     "output_type": "execute_result"
    }
   ],
   "source": [
    "counter_of_green_light(256)"
   ]
  },
  {
   "cell_type": "markdown",
   "metadata": {},
   "source": [
    "## 55 lehetséges érték van 256 helyett"
   ]
  },
  {
   "cell_type": "code",
   "execution_count": 26,
   "metadata": {},
   "outputs": [],
   "source": [
    "m_16 = 16\n",
    "a_16 = []\n",
    "for i in range(m_16):\n",
    "    a_16.append(counter_of_green_light(i))"
   ]
  },
  {
   "cell_type": "code",
   "execution_count": 27,
   "metadata": {},
   "outputs": [
    {
     "data": {
      "text/plain": [
       "[0, 1, 2, 3, 3, 4, 5, 5, 5, 6, 7, 8, 8, 8, 8, 8]"
      ]
     },
     "execution_count": 27,
     "metadata": {},
     "output_type": "execute_result"
    }
   ],
   "source": [
    "a_16"
   ]
  },
  {
   "cell_type": "markdown",
   "metadata": {},
   "source": [
    "### Azt vesszük észre,hogy 8 lehetséges érték stagnáló tendenciát mutat "
   ]
  },
  {
   "cell_type": "code",
   "execution_count": 15,
   "metadata": {},
   "outputs": [],
   "source": [
    "import matplotlib.pyplot as plt\n",
    "import numpy as np"
   ]
  },
  {
   "cell_type": "markdown",
   "metadata": {},
   "source": [
    "$$\\left(\\frac{\\sqrt{5}+1}{2}\\right)^n$$"
   ]
  },
  {
   "cell_type": "code",
   "execution_count": 28,
   "metadata": {},
   "outputs": [
    {
     "name": "stderr",
     "output_type": "stream",
     "text": [
      "C:\\Users\\olibe\\AppData\\Local\\Temp\\ipykernel_16128\\4265133303.py:1: RuntimeWarning: divide by zero encountered in log\n",
      "  plt.plot(np.arange(m_16),np.log(a_16))\n"
     ]
    },
    {
     "data": {
      "text/plain": [
       "[<matplotlib.lines.Line2D at 0x15621b22e70>]"
      ]
     },
     "execution_count": 28,
     "metadata": {},
     "output_type": "execute_result"
    },
    {
     "data": {
      "image/png": "[encoded data removed]",
      "text/plain": [
       "<Figure size 640x480 with 1 Axes>"
      ]
     },
     "metadata": {},
     "output_type": "display_data"
    }
   ],
   "source": [
    "plt.plot(np.arange(m_16),np.log(a_16))\n",
    "plt.plot(np.arange(m_16),np.log(((np.sqrt(5) + 1)/(2)))**np.arange(m_16));"
   ]
  },
  {
   "cell_type": "code",
   "execution_count": 29,
   "metadata": {},
   "outputs": [],
   "source": [
    "m_32 = 32\n",
    "a_32 = []\n",
    "for i in range(m_32):\n",
    "    a_32.append(counter_of_green_light(i))"
   ]
  },
  {
   "cell_type": "code",
   "execution_count": 30,
   "metadata": {},
   "outputs": [
    {
     "name": "stderr",
     "output_type": "stream",
     "text": [
      "C:\\Users\\olibe\\AppData\\Local\\Temp\\ipykernel_16128\\2431991820.py:1: RuntimeWarning: divide by zero encountered in log\n",
      "  plt.plot(np.arange(m_32),np.log(a_32))\n"
     ]
    },
    {
     "data": {
      "image/png": "[encoded data removed]",
      "text/plain": [
       "<Figure size 640x480 with 1 Axes>"
      ]
     },
     "metadata": {},
     "output_type": "display_data"
    }
   ],
   "source": [
    "plt.plot(np.arange(m_32),np.log(a_32))\n",
    "plt.plot(np.arange(m_32),np.log(((np.sqrt(5) + 1)/(2)))**np.arange(m_32));"
   ]
  },
  {
   "cell_type": "code",
   "execution_count": 31,
   "metadata": {},
   "outputs": [],
   "source": [
    "m_512 = 512\n",
    "a_512 = []\n",
    "for i in range(m_512):\n",
    "    a_512.append(counter_of_green_light(i))"
   ]
  },
  {
   "cell_type": "code",
   "execution_count": 32,
   "metadata": {},
   "outputs": [
    {
     "name": "stderr",
     "output_type": "stream",
     "text": [
      "C:\\Users\\olibe\\AppData\\Local\\Temp\\ipykernel_16128\\3134404927.py:1: RuntimeWarning: divide by zero encountered in log\n",
      "  plt.plot(np.arange(m_512),np.log(a_512))\n"
     ]
    },
    {
     "data": {
      "image/png": "[encoded data removed]",
      "text/plain": [
       "<Figure size 640x480 with 1 Axes>"
      ]
     },
     "metadata": {},
     "output_type": "display_data"
    }
   ],
   "source": [
    "plt.plot(np.arange(m_512),np.log(a_512))\n",
    "plt.plot(np.arange(m_512),np.log(((np.sqrt(5) + 1)/(2)))**np.arange(m_512));"
   ]
  },
  {
   "cell_type": "code",
   "execution_count": null,
   "metadata": {},
   "outputs": [],
   "source": []
  },
  {
   "cell_type": "code",
   "execution_count": 35,
   "metadata": {},
   "outputs": [
    {
     "name": "stderr",
     "output_type": "stream",
     "text": [
      "C:\\Users\\olibe\\AppData\\Local\\Temp\\ipykernel_16128\\2026395552.py:1: RuntimeWarning: divide by zero encountered in log\n",
      "  plt.plot(np.arange(m_16),np.log(a_16))\n",
      "C:\\Users\\olibe\\AppData\\Local\\Temp\\ipykernel_16128\\2026395552.py:2: RuntimeWarning: divide by zero encountered in log\n",
      "  plt.plot(np.arange(m_32),np.log(a_32),alpha = 0.6)\n",
      "C:\\Users\\olibe\\AppData\\Local\\Temp\\ipykernel_16128\\2026395552.py:3: RuntimeWarning: divide by zero encountered in log\n",
      "  plt.plot(np.arange(m_512),np.log(a_512),alpha = 0.4);\n"
     ]
    },
    {
     "data": {
      "image/png": "[encoded data removed]",
      "text/plain": [
       "<Figure size 640x480 with 1 Axes>"
      ]
     },
     "metadata": {},
     "output_type": "display_data"
    }
   ],
   "source": [
    "plt.plot(np.arange(m_16),np.log(a_16))\n",
    "plt.plot(np.arange(m_32),np.log(a_32),alpha = 0.6)\n",
    "plt.plot(np.arange(m_512),np.log(a_512),alpha = 0.4);"
   ]
  },
  {
   "cell_type": "code",
   "execution_count": null,
   "metadata": {},
   "outputs": [],
   "source": []
  },
  {
   "cell_type": "code",
   "execution_count": null,
   "metadata": {},
   "outputs": [],
   "source": []
  },
  {
   "cell_type": "code",
   "execution_count": null,
   "metadata": {},
   "outputs": [],
   "source": []
  },
  {
   "cell_type": "markdown",
   "metadata": {},
   "source": [
    "# Chatgpt"
   ]
  },
  {
   "cell_type": "code",
   "execution_count": 9,
   "metadata": {},
   "outputs": [
    {
     "data": {
      "text/plain": [
       "55"
      ]
     },
     "execution_count": 9,
     "metadata": {},
     "output_type": "execute_result"
    }
   ],
   "source": [
    "def count_valid_sequences(n):\n",
    "    if n == 1:\n",
    "        return 2\n",
    "    \n",
    "    F0 = [0] * (n + 1)\n",
    "    F1 = [0] * (n + 1)\n",
    "    F = [0] * (n + 1)\n",
    "    \n",
    "    F0[1] = 1\n",
    "    F1[1] = 1\n",
    "    F[1] = 2\n",
    "    \n",
    "    for i in range(2, n + 1):\n",
    "        F0[i] = F[i-1]\n",
    "        F1[i] = F0[i-1]\n",
    "        F[i] = F0[i] + F1[i]\n",
    "    \n",
    "    return F[n]\n",
    "\n",
    "# Számoljuk ki a lehetséges értékek számát egy 8 bites sorozatra\n",
    "n = 8\n",
    "lehetséges_értékek_száma = count_valid_sequences(n)\n",
    "lehetséges_értékek_száma"
   ]
  },
  {
   "cell_type": "markdown",
   "metadata": {},
   "source": [
    "## Run time comparison"
   ]
  },
  {
   "cell_type": "code",
   "execution_count": 37,
   "metadata": {},
   "outputs": [],
   "source": [
    "import time"
   ]
  },
  {
   "cell_type": "code",
   "execution_count": 45,
   "metadata": {},
   "outputs": [
    {
     "data": {
      "text/plain": [
       "0.154984712600708"
      ]
     },
     "execution_count": 45,
     "metadata": {},
     "output_type": "execute_result"
    }
   ],
   "source": [
    "start = time.time()\n",
    "counter_of_green_light(10000)\n",
    "end = time.time()\n",
    "end-start"
   ]
  },
  {
   "cell_type": "code",
   "execution_count": 46,
   "metadata": {},
   "outputs": [
    {
     "data": {
      "text/plain": [
       "0.019450664520263672"
      ]
     },
     "execution_count": 46,
     "metadata": {},
     "output_type": "execute_result"
    }
   ],
   "source": [
    "start = time.time()\n",
    "lehetséges_értékek_száma = count_valid_sequences(10000)\n",
    "end = time.time()\n",
    "end-start"
   ]
  },
  {
   "cell_type": "code",
   "execution_count": null,
   "metadata": {},
   "outputs": [],
   "source": []
  }
 ],
 "metadata": {
  "kernelspec": {
   "display_name": "Python 3 (ipykernel)",
   "language": "python",
   "name": "python3"
  },
  "language_info": {
   "codemirror_mode": {
    "name": "ipython",
    "version": 3
   },
   "file_extension": ".py",
   "mimetype": "text/x-python",
   "name": "python",
   "nbconvert_exporter": "python",
   "pygments_lexer": "ipython3",
   "version": "3.12.2"
  }
 },
 "nbformat": 4,
 "nbformat_minor": 4
}
