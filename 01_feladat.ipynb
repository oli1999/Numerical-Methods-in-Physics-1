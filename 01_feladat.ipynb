{
 "cells": [
  {
   "cell_type": "markdown",
   "metadata": {},
   "source": [
    "# HF 1 (15 pont)\n",
    "\n",
    "- Minden feladatot a feladatszámnak megfelelő számú megoldásnotebookban oldj meg. Például első feladatot az 01_feladat.ipynb notebookban.\n",
    "- A megoldás tartalmazza a megoldandó feladat szövegét a megoldásnotebook első markdown cellájában!\n",
    "- **Kommentekkel**, illetve **markdown cellákkal** magyarázd, hogy éppen mit csinál az adott kódrészlet!\n",
    "- Magyarázat nélkül a beküldött feladatok csak fél feladatnak számítanak!\n",
    "- Az elkészített ábrák minden esetben rendelkezzenek ábrafeliratokkal (cím, tengelyfeliratok és  −  amennyiben indokolt  −  jelmagyarázat)! Amennyiben a beadott ábrákon nincsenek feliratok, az adott feladat automatikusan csak fél feladatnak számít!\n",
    "- A beadott notebookok Kernel -> Restart&Run All hatására a beadott formát reprodukálják! \n",
    "- A Feladatok megadott pontszámán túl a beadott feladatok külalakjáért összesen 3 pont-ot lehet szerezni!\n",
    "---\n"
   ]
  },
  {
   "cell_type": "markdown",
   "metadata": {},
   "source": [
    "## Feladat 1 (2 pont)\n",
    "## Luhn-algoritmus\n",
    "\n",
    "- Írj egy függvényt, ami a [Luhn-algoritmus](https://hu.wikipedia.org/wiki/Luhn-formula) segítségével ellenőrzi a hitelkártyaszámok hitelességét.\n",
    "- Demonstráld az alábbi hitelkártyaszámokkal, hogy a függvény jól működik:\n",
    "    - 79927398713 (True)\n",
    "    - 79927398716 (False)\n",
    "    - 79927398719 ?\n",
    "    - 456565654 ?\n",
    "    - 456565651 ?\n"
   ]
  },
  {
   "cell_type": "code",
   "execution_count": 1,
   "metadata": {},
   "outputs": [],
   "source": [
    "import time\n",
    "import numpy as np\n",
    "from numpy.lib.scimath import sqrt"
   ]
  },
  {
   "cell_type": "code",
   "execution_count": 2,
   "metadata": {},
   "outputs": [],
   "source": [
    "def luhn_other(creditcard):\n",
    "    sum = 0\n",
    "    nDigits = len(creditcard)\n",
    "    parity = nDigits & 1\n",
    "    for i in range (nDigits):\n",
    "        digit = int(creditcard[i])\n",
    "        if not ((i & 1) ^ parity):  \n",
    "            digit = digit * 2\n",
    "        if digit > 9:\n",
    "            digit = digit - 9\n",
    "        sum = sum + digit\n",
    "    return ((sum % 10) == 0)"
   ]
  },
  {
   "cell_type": "code",
   "execution_count": 3,
   "metadata": {},
   "outputs": [],
   "source": [
    "def luhn_mine(creditcard):\n",
    "    cre = creditcard\n",
    "    if type(cre) == str:\n",
    "        cre = [eval(i) for i in cre][::-1]\n",
    "        cut,cre = cre[0],np.array(cre[1:])\n",
    "        cre[::2] = cre[::2]*2\n",
    "        cre = list(cre)\n",
    "        cre = [(int(np.floor((i/10))) + i%10) if i > 9 else i for i in cre]\n",
    "        cre.append(cut)\n",
    "    else:\n",
    "        cre = [int(i) for i in str(cre)][::-1]\n",
    "        cut,cre = cre[0],np.array(cre[1:])\n",
    "        cre[::2] = cre[::2]*2\n",
    "        cre = list(cre)\n",
    "        cre = [(int(np.floor((i/10))) + i%10) if i > 9 else i for i in cre]\n",
    "        cre.append(cut)\n",
    "    return sum(cre) % 10 == 0"
   ]
  },
  {
   "cell_type": "code",
   "execution_count": 4,
   "metadata": {},
   "outputs": [],
   "source": [
    "def luhn_chatgpt(creditcard):\n",
    "    creditcard = creditcard[::-1]\n",
    "    total_sum = 0\n",
    "    for i, digit in enumerate(creditcard):\n",
    "        n = int(digit)\n",
    "        if i % 2 == 1:\n",
    "            n *= 2\n",
    "            if n > 9:\n",
    "                n -= 9\n",
    "        total_sum += n\n",
    "    return total_sum % 10 == 0"
   ]
  },
  {
   "cell_type": "code",
   "execution_count": 5,
   "metadata": {},
   "outputs": [
    {
     "name": "stdout",
     "output_type": "stream",
     "text": [
      "79927398713:  True\n",
      "79927398716:  False\n",
      "79927398719:  False\n",
      "456565654:  True\n",
      "456565651:  False\n"
     ]
    }
   ],
   "source": [
    "print(\"79927398713: \", luhn_other(\"79927398713\"))\n",
    "print(\"79927398716: \", luhn_other(\"79927398716\"))\n",
    "print(\"79927398719: \", luhn_other(\"79927398719\"))\n",
    "print(\"456565654: \", luhn_other(\"456565654\"))\n",
    "print(\"456565651: \", luhn_other(\"456565651\"))"
   ]
  },
  {
   "cell_type": "code",
   "execution_count": 6,
   "metadata": {},
   "outputs": [
    {
     "name": "stdout",
     "output_type": "stream",
     "text": [
      "79927398713:  True\n",
      "79927398716:  False\n",
      "79927398719:  False\n",
      "456565654:  True\n",
      "456565651:  False\n"
     ]
    }
   ],
   "source": [
    "print(\"79927398713: \", luhn_mine(\"79927398713\"))\n",
    "print(\"79927398716: \", luhn_mine(\"79927398716\"))\n",
    "print(\"79927398719: \", luhn_mine(\"79927398719\"))\n",
    "print(\"456565654: \", luhn_mine(\"456565654\"))\n",
    "print(\"456565651: \", luhn_mine(\"456565651\"))"
   ]
  },
  {
   "cell_type": "code",
   "execution_count": 7,
   "metadata": {},
   "outputs": [
    {
     "name": "stdout",
     "output_type": "stream",
     "text": [
      "79927398713:  True\n",
      "79927398716:  False\n",
      "79927398719:  False\n",
      "456565654:  True\n",
      "456565651:  False\n"
     ]
    }
   ],
   "source": [
    "print(\"79927398713: \", luhn_chatgpt(\"79927398713\"))\n",
    "print(\"79927398716: \", luhn_chatgpt(\"79927398716\"))\n",
    "print(\"79927398719: \", luhn_chatgpt(\"79927398719\"))\n",
    "print(\"456565654: \", luhn_chatgpt(\"456565654\"))\n",
    "print(\"456565651: \", luhn_chatgpt(\"456565651\"))"
   ]
  },
  {
   "cell_type": "code",
   "execution_count": 8,
   "metadata": {},
   "outputs": [],
   "source": [
    "creditcard_numbers = ['79927398713','79927398716','79927398719','456565654','456565651']"
   ]
  },
  {
   "cell_type": "code",
   "execution_count": 9,
   "metadata": {},
   "outputs": [
    {
     "data": {
      "text/plain": [
       "0.015170812606811523"
      ]
     },
     "execution_count": 9,
     "metadata": {},
     "output_type": "execute_result"
    }
   ],
   "source": [
    "start = time.time()\n",
    "for i in range(1000):\n",
    "    for j in creditcard_numbers:\n",
    "        luhn_other(j)\n",
    "end = time.time()\n",
    "end-start"
   ]
  },
  {
   "cell_type": "code",
   "execution_count": 10,
   "metadata": {},
   "outputs": [
    {
     "data": {
      "text/plain": [
       "0.4232363700866699"
      ]
     },
     "execution_count": 10,
     "metadata": {},
     "output_type": "execute_result"
    }
   ],
   "source": [
    "start = time.time()\n",
    "for i in range(1000):\n",
    "    for j in creditcard_numbers:\n",
    "        luhn_mine(j)\n",
    "end = time.time()\n",
    "end-start"
   ]
  },
  {
   "cell_type": "code",
   "execution_count": 11,
   "metadata": {},
   "outputs": [
    {
     "data": {
      "text/plain": [
       "0.01628708839416504"
      ]
     },
     "execution_count": 11,
     "metadata": {},
     "output_type": "execute_result"
    }
   ],
   "source": [
    "start = time.time()\n",
    "for i in range(1000):\n",
    "    for j in creditcard_numbers:\n",
    "        luhn_chatgpt(j)\n",
    "end = time.time()\n",
    "end-start"
   ]
  },
  {
   "cell_type": "code",
   "execution_count": null,
   "metadata": {},
   "outputs": [],
   "source": []
  }
 ],
 "metadata": {
  "kernelspec": {
   "display_name": "Python 3 (ipykernel)",
   "language": "python",
   "name": "python3"
  },
  "language_info": {
   "codemirror_mode": {
    "name": "ipython",
    "version": 3
   },
   "file_extension": ".py",
   "mimetype": "text/x-python",
   "name": "python",
   "nbconvert_exporter": "python",
   "pygments_lexer": "ipython3",
   "version": "3.12.2"
  }
 },
 "nbformat": 4,
 "nbformat_minor": 4
}
